{
  "cells": [
    {
      "cell_type": "markdown",
      "id": "759d04ba",
      "metadata": {
        "id": "759d04ba"
      },
      "source": [
        "**1-Write a Python program to calculate the length of a string using 2 ways"
      ]
    },
    {
      "cell_type": "code",
      "execution_count": null,
      "id": "e434c950",
      "metadata": {
        "colab": {
          "base_uri": "https://localhost:8080/"
        },
        "id": "e434c950",
        "outputId": "be58178a-9e75-4be9-a7c9-9127eabb6fac"
      },
      "outputs": [
        {
          "output_type": "stream",
          "name": "stdout",
          "text": [
            "enter a stringhahdklfbd\n",
            "9\n",
            "9\n"
          ]
        }
      ],
      "source": [
        "a = input(\"enter a string\")\n",
        "counter =0\n",
        "for i in a :\n",
        "    counter =counter +1\n",
        "print(counter)\n",
        "print(len(a))"
      ]
    },
    {
      "cell_type": "code",
      "execution_count": null,
      "id": "7a2dfa32",
      "metadata": {
        "id": "7a2dfa32"
      },
      "outputs": [],
      "source": []
    },
    {
      "cell_type": "markdown",
      "id": "d7cc9da7",
      "metadata": {
        "id": "d7cc9da7"
      },
      "source": [
        "**2-Write a Python program to get a string made of the first 2 and last 2 characters of a given string. If the string length is less than 2, return the empty string instead (\"##Sample String : 'w3resource'\n",
        "Expected Result : 'w3ce'\n",
        "##Sample String : 'w3'\n",
        "Expected Result : 'w3w3'\n",
        "##Sample String : ' w'\n",
        "Expected Result : Empty String)"
      ]
    },
    {
      "cell_type": "code",
      "execution_count": null,
      "id": "dafa9dd8",
      "metadata": {
        "colab": {
          "base_uri": "https://localhost:8080/"
        },
        "id": "dafa9dd8",
        "outputId": "eade8cf8-74cb-4965-fed7-095ee2e11475"
      },
      "outputs": [
        {
          "output_type": "stream",
          "name": "stdout",
          "text": [
            "enter the stringw\n",
            "expected result:Empty String \n"
          ]
        }
      ],
      "source": [
        "a = input(\"enter the string\")\n",
        "b = a[:2]\n",
        "c= a[-2:]\n",
        "m = \" \"\n",
        "if len(a) ==1:\n",
        "    print(\"expected result:Empty String \")\n",
        "else :\n",
        "  print(\"expected result:\",b+c)"
      ]
    },
    {
      "cell_type": "markdown",
      "id": "1534f956",
      "metadata": {
        "id": "1534f956"
      },
      "source": [
        "**3-Write a Python program to add 'ing' at the end of a given string (length should be at least 3). If the given string already ends with 'ing', add 'ly' instead. If the string length of the given string is less than 3, leave it unchanged. (Sample String : 'abc'\n",
        "Expected Result : 'abcing')"
      ]
    },
    {
      "cell_type": "code",
      "execution_count": null,
      "id": "7ff8cec4",
      "metadata": {
        "colab": {
          "base_uri": "https://localhost:8080/"
        },
        "id": "7ff8cec4",
        "outputId": "a346ae9d-8355-4634-eb95-423166d4a080"
      },
      "outputs": [
        {
          "output_type": "stream",
          "name": "stdout",
          "text": [
            "enter a stringstring\n",
            "stringly\n"
          ]
        }
      ],
      "source": [
        "s = input(\"enter a string\")\n",
        "if len(s)<3:\n",
        "  print(\"expected result :\",s)\n",
        "elif s[-3:]==\"ing\":\n",
        "   print(s+\"ly\")\n",
        "\n",
        "else:\n",
        "  print(\"expected result:\",s+\"ing\")"
      ]
    },
    {
      "cell_type": "markdown",
      "id": "1c0a6627",
      "metadata": {
        "id": "1c0a6627"
      },
      "source": [
        "**4-Write a Python function that takes a list of words and return the longest word and the length of the longest one\n",
        "(Longest word: Exercises\n",
        "Length of the longest word: 9)"
      ]
    },
    {
      "cell_type": "code",
      "execution_count": null,
      "id": "397341d9",
      "metadata": {
        "colab": {
          "base_uri": "https://localhost:8080/"
        },
        "id": "397341d9",
        "outputId": "cb1c654f-21b5-4440-dbfc-cda6a3340129"
      },
      "outputs": [
        {
          "output_type": "stream",
          "name": "stdout",
          "text": [
            "Longest word :00000000wordlesLength of the longest word: 15\n"
          ]
        }
      ],
      "source": [
        "def lists(list1):\n",
        "  max1 = len(a[0])\n",
        "  temp = a[0]\n",
        "  for i in a:\n",
        "    if (len(i)>max1):\n",
        "      max1 = len(i)\n",
        "      temp = i\n",
        "   print(f\"longest word: {temp} Length of the longest word {max1} \")\n",
        "a = [\"hello world \",\"exerises\",\"hello\"]\n",
        "\n",
        "\n",
        "\n",
        "\n"
      ]
    },
    {
      "cell_type": "code",
      "source": [],
      "metadata": {
        "colab": {
          "base_uri": "https://localhost:8080/"
        },
        "id": "MJMh225HOaz1",
        "outputId": "c9d4e5ea-9ea0-4a3f-ae4b-6258f656217d"
      },
      "id": "MJMh225HOaz1",
      "execution_count": null,
      "outputs": [
        {
          "output_type": "stream",
          "name": "stdout",
          "text": [
            "9\n",
            "0\n"
          ]
        }
      ]
    },
    {
      "cell_type": "markdown",
      "id": "53a03a6a",
      "metadata": {
        "id": "53a03a6a"
      },
      "source": [
        "**5-Write a Python program to change a given string to a newly string where the first and last chars have been exchanged using 2 ways (Sample String:abca  Expected Result:ebce)"
      ]
    },
    {
      "cell_type": "code",
      "source": [],
      "metadata": {
        "id": "YPtjypg3a8VG"
      },
      "id": "YPtjypg3a8VG",
      "execution_count": null,
      "outputs": []
    },
    {
      "cell_type": "code",
      "execution_count": null,
      "id": "fd327d2a",
      "metadata": {
        "colab": {
          "base_uri": "https://localhost:8080/",
          "height": 52
        },
        "id": "fd327d2a",
        "outputId": "c712cad5-ca87-49a6-9dda-097b6a7cba91"
      },
      "outputs": [
        {
          "name": "stdout",
          "output_type": "stream",
          "text": [
            "enter a stringabca\n"
          ]
        },
        {
          "output_type": "execute_result",
          "data": {
            "text/plain": [
              "'ebce'"
            ],
            "application/vnd.google.colaboratory.intrinsic+json": {
              "type": "string"
            }
          },
          "metadata": {},
          "execution_count": 36
        }
      ],
      "source": [
        "a = input(\"enter a string\")\n",
        "a.replace(a[:1],\"e\")\n",
        "a.replace(a[-1:],\"e\")\n",
        "print(a)"
      ]
    },
    {
      "cell_type": "code",
      "execution_count": null,
      "id": "285788b4",
      "metadata": {
        "colab": {
          "base_uri": "https://localhost:8080/"
        },
        "id": "285788b4",
        "outputId": "01563045-1fc3-4a12-a6fd-f98bb529faa1"
      },
      "outputs": [
        {
          "output_type": "stream",
          "name": "stdout",
          "text": [
            "dbcda\n",
            "523451\n"
          ]
        }
      ],
      "source": [
        "def change_sring(str1):\n",
        "      return str1[-1:] + str1[1:] + str1[0:1]\n",
        "\n",
        "print(change_sring('abcd'))\n",
        "print(change_sring('12345'))"
      ]
    },
    {
      "cell_type": "markdown",
      "id": "25f89808",
      "metadata": {
        "id": "25f89808"
      },
      "source": [
        "**6-Write a Python program to remove characters that have odd index values in a given string (Sample String:abca Expected Result:ac)"
      ]
    },
    {
      "cell_type": "code",
      "source": [
        "a = input(\"enter the string\")\n",
        "result = \"\"\n",
        "for i in range(len(a)) :\n",
        "  if i %2 ==0:\n",
        "    result = result+a[i]\n",
        "print(result)"
      ],
      "metadata": {
        "colab": {
          "base_uri": "https://localhost:8080/"
        },
        "id": "jwAVOR0QLHpJ",
        "outputId": "bc4db71c-e3bd-42fb-c44b-acb9b2935cab"
      },
      "id": "jwAVOR0QLHpJ",
      "execution_count": null,
      "outputs": [
        {
          "output_type": "stream",
          "name": "stdout",
          "text": [
            "enter the stringabcb\n",
            "ac\n"
          ]
        }
      ]
    },
    {
      "cell_type": "markdown",
      "id": "eb16e898",
      "metadata": {
        "id": "eb16e898"
      },
      "source": [
        "**7-Write a Python program to count the occurrences of each word in a given sentence (Sample String:amr and ahmed are frindes but amr is the tallest Expected Result:2)"
      ]
    },
    {
      "cell_type": "code",
      "execution_count": null,
      "id": "01ce6cf5",
      "metadata": {
        "colab": {
          "base_uri": "https://localhost:8080/"
        },
        "id": "01ce6cf5",
        "outputId": "f1bbeb2f-f439-44b0-b63c-3fde0ad89993"
      },
      "outputs": [
        {
          "output_type": "stream",
          "name": "stdout",
          "text": [
            "{'amr': 2, 'and': 1, 'ahmed': 1, 'are': 1, 'friends': 1, 'but': 1, 'is': 1, 'the': 1, 'tallest': 1}\n"
          ]
        }
      ],
      "source": [
        "def count_word_occurrences(sentence):\n",
        "    sentence = sentence.lower()\n",
        "    words = sentence.split()\n",
        "    word_occurrences = {}\n",
        "\n",
        "    for word in words:\n",
        "        word_occurrences[word] = word_occurrences.get(word, 0) + 1\n",
        "\n",
        "    return word_occurrences\n",
        "sample_sentence = \"amr and ahmed are friends but amr is the tallest\"\n",
        "\n",
        "\n",
        "result = count_word_occurrences(sample_sentence)\n",
        "\n",
        "\n",
        "print(result)\n",
        "\n",
        "\n"
      ]
    },
    {
      "cell_type": "code",
      "source": [],
      "metadata": {
        "id": "WA4Kav-DF3vm"
      },
      "id": "WA4Kav-DF3vm",
      "execution_count": null,
      "outputs": []
    },
    {
      "cell_type": "markdown",
      "id": "4e8125f1",
      "metadata": {
        "id": "4e8125f1"
      },
      "source": [
        "**8-Write a Python script that takes input from the user and displays that input back in upper and lower cases"
      ]
    },
    {
      "cell_type": "code",
      "execution_count": null,
      "id": "66c8f778",
      "metadata": {
        "id": "66c8f778",
        "colab": {
          "base_uri": "https://localhost:8080/"
        },
        "outputId": "a51c3591-cce2-4413-abfe-28bc2136a79e"
      },
      "outputs": [
        {
          "output_type": "stream",
          "name": "stdout",
          "text": [
            "enter the scriptenter the lower case\n",
            "the upper case is: ENTER THE LOWER CASE\n",
            "the lower case is : enter the lower case\n"
          ]
        }
      ],
      "source": [
        "a = input(\"enter the script\").upper()\n",
        "d = a.lower()\n",
        "print(\"the upper case is:\",a)\n",
        "print(\"the lower case is :\",d)\n"
      ]
    },
    {
      "cell_type": "markdown",
      "id": "fcd68aa1",
      "metadata": {
        "id": "fcd68aa1"
      },
      "source": [
        "**9-Write a Python function to reverse a string if its length is a multiple of 4"
      ]
    },
    {
      "cell_type": "code",
      "execution_count": null,
      "id": "0671a931",
      "metadata": {
        "id": "0671a931",
        "colab": {
          "base_uri": "https://localhost:8080/"
        },
        "outputId": "b8db4c45-24fe-47bc-820d-38d890820e46"
      },
      "outputs": [
        {
          "output_type": "stream",
          "name": "stdout",
          "text": [
            "enter a stringhelo\n",
            "oleh\n"
          ]
        }
      ],
      "source": [
        "def rev(str1):\n",
        "  if len(str1)%4==0:\n",
        "    print(str1[::-1])\n",
        "  else :\n",
        "    print(str1)\n",
        "    return str1\n",
        "\n",
        "str1 = input(\"enter a string\")\n",
        "rev(str1)\n",
        "\n"
      ]
    },
    {
      "cell_type": "markdown",
      "id": "b577c68d",
      "metadata": {
        "id": "b577c68d"
      },
      "source": [
        "**10- Write a Python program to remove a newline in Python"
      ]
    },
    {
      "cell_type": "code",
      "execution_count": null,
      "id": "e0c6525a",
      "metadata": {
        "id": "e0c6525a",
        "colab": {
          "base_uri": "https://localhost:8080/"
        },
        "outputId": "5551805b-ceaf-4b38-8f61-d049b423fba3"
      },
      "outputs": [
        {
          "output_type": "stream",
          "name": "stdout",
          "text": [
            "Python Exercises\n",
            "\n",
            "Python Exercises\n"
          ]
        }
      ],
      "source": [
        "str1 = \"hello mohamed badry'\\n'\"\n",
        "print(str1.rstrip())"
      ]
    },
    {
      "cell_type": "markdown",
      "id": "80db5ae0",
      "metadata": {
        "id": "80db5ae0"
      },
      "source": [
        "**11-Write a Python program to check whether a string starts with specified characters"
      ]
    },
    {
      "cell_type": "code",
      "execution_count": null,
      "id": "0cc4e03e",
      "metadata": {
        "id": "0cc4e03e",
        "colab": {
          "base_uri": "https://localhost:8080/"
        },
        "outputId": "16b38fb7-f186-45df-a920-75b53bb2b891"
      },
      "outputs": [
        {
          "output_type": "stream",
          "name": "stdout",
          "text": [
            "True\n"
          ]
        }
      ],
      "source": [
        "string = \"hello mohamed how are you\"\n",
        "print(string.startswith(\"hello\"))"
      ]
    },
    {
      "cell_type": "markdown",
      "id": "593a68db",
      "metadata": {
        "id": "593a68db"
      },
      "source": [
        "**12- Write a Python program to add prefix text to all of the lines in a string"
      ]
    },
    {
      "cell_type": "code",
      "execution_count": null,
      "id": "d2e46ada",
      "metadata": {
        "id": "d2e46ada",
        "colab": {
          "base_uri": "https://localhost:8080/"
        },
        "outputId": "6f8563fa-3454-4ed0-ef68-f415b870b348"
      },
      "outputs": [
        {
          "output_type": "stream",
          "name": "stdout",
          "text": [
            ">> Line 1\n",
            ">> Line 2\n",
            ">> Line 3\n",
            ">> Line 4\n"
          ]
        }
      ],
      "source": [
        "def add_prefix_to_lines(input_string, prefix):\n",
        "    lines = input_string.splitlines()\n",
        "    prefixed_lines = [prefix + line for line in lines]\n",
        "    result_string = '\\n'.join(prefixed_lines)\n",
        "    return result_string\n",
        "\n",
        "if __name__ == \"__main__\":\n",
        "    input_string = \"\"\"Line 1\n",
        "Line 2\n",
        "Line 3\n",
        "Line 4\"\"\"\n",
        "    prefix = \">> \"\n",
        "    result = add_prefix_to_lines(input_string, prefix)\n",
        "    print(result)\n"
      ]
    },
    {
      "cell_type": "markdown",
      "id": "86fa1543",
      "metadata": {
        "id": "86fa1543"
      },
      "source": [
        "**13-Write a Python program to print the following numbers up to 2 decimal places"
      ]
    },
    {
      "cell_type": "code",
      "execution_count": null,
      "id": "cd4a9d89",
      "metadata": {
        "id": "cd4a9d89",
        "colab": {
          "base_uri": "https://localhost:8080/"
        },
        "outputId": "94f6d498-4f8e-4af8-f528-7ce23e672122"
      },
      "outputs": [
        {
          "output_type": "stream",
          "name": "stdout",
          "text": [
            "Formatted Number: +4.42\n"
          ]
        }
      ],
      "source": [
        "x = 4.42453\n",
        "print(\"Formatted Number: \"+\"{:.2f}\".format(x))"
      ]
    },
    {
      "cell_type": "markdown",
      "id": "452c0ab0",
      "metadata": {
        "id": "452c0ab0"
      },
      "source": [
        "**14-Write a Python program to print the following numbers up to 2 decimal places with a sign"
      ]
    },
    {
      "cell_type": "code",
      "execution_count": null,
      "id": "73e82479",
      "metadata": {
        "id": "73e82479",
        "colab": {
          "base_uri": "https://localhost:8080/"
        },
        "outputId": "1878a7b1-3a2e-4337-d067-9e0de97faa4d"
      },
      "outputs": [
        {
          "output_type": "stream",
          "name": "stdout",
          "text": [
            "Formatted Number: +4.42\n",
            "4.42453\n"
          ]
        }
      ],
      "source": [
        "x = 4.42453\n",
        "print(\"Formatted Number: \"+\"{:+.2f}\".format(x))\n"
      ]
    },
    {
      "cell_type": "markdown",
      "id": "32b1811a",
      "metadata": {
        "id": "32b1811a"
      },
      "source": [
        "**15-Write a Python program to display a number with a comma separator"
      ]
    },
    {
      "cell_type": "code",
      "execution_count": null,
      "id": "f30fc0b6",
      "metadata": {
        "id": "f30fc0b6",
        "colab": {
          "base_uri": "https://localhost:8080/"
        },
        "outputId": "8bd59aff-aac6-4c8b-a0b7-1bb42bdfc637"
      },
      "outputs": [
        {
          "output_type": "stream",
          "name": "stdout",
          "text": [
            "formatted Number:44,565,785\n"
          ]
        }
      ],
      "source": [
        "x =44565785\n",
        "print(\"formatted Number:\"+\"{:,}\".format(x))"
      ]
    },
    {
      "cell_type": "markdown",
      "id": "0477f487",
      "metadata": {
        "id": "0477f487"
      },
      "source": [
        "**16-Write a Python program to reverse a string using 2 ways"
      ]
    },
    {
      "cell_type": "code",
      "source": [
        "a = input(\"enter the string\")\n",
        "print(a[::-1])\n",
        "\n",
        "s = ''.join(reversed(a))\n",
        "print(s)\n",
        "\n",
        "\n",
        "\n"
      ],
      "metadata": {
        "colab": {
          "base_uri": "https://localhost:8080/"
        },
        "id": "DAsoTBD3RzJF",
        "outputId": "2e7c6a48-b9e4-4649-b697-5dd5ef69139b"
      },
      "id": "DAsoTBD3RzJF",
      "execution_count": null,
      "outputs": [
        {
          "output_type": "stream",
          "name": "stdout",
          "text": [
            "enter the stringhello'\n",
            "'olleh\n",
            "'olleh\n"
          ]
        }
      ]
    },
    {
      "cell_type": "markdown",
      "id": "5afc3166",
      "metadata": {
        "id": "5afc3166"
      },
      "source": [
        " **17-Write a Python program to count repeated characters in a string (hint:use dictionary)"
      ]
    },
    {
      "cell_type": "code",
      "source": [
        "def char_count_repeated(s):\n",
        "   char_count = {}\n",
        "   for char in s:\n",
        "     if char in char_count:\n",
        "        char_count[char] += 1\n",
        "     else:\n",
        "        char_count[char] = 1\n",
        "   for char,count in char_count.items():\n",
        "       if count >1:\n",
        "        print(f\" '{char}'is repeated {count} items \")\n",
        "input_string = input(\"enter a string :\")\n",
        "char_count_repeated(input_string)"
      ],
      "metadata": {
        "colab": {
          "base_uri": "https://localhost:8080/"
        },
        "id": "Jh_v3Ls8iYhk",
        "outputId": "8a4aa900-27df-475c-8848-d0e539fa34c3"
      },
      "id": "Jh_v3Ls8iYhk",
      "execution_count": null,
      "outputs": [
        {
          "output_type": "stream",
          "name": "stdout",
          "text": [
            "enter a string :hello badry how are you\n",
            " 'h'is repeated 2 items \n",
            " 'e'is repeated 2 items \n",
            " 'l'is repeated 2 items \n",
            " 'o'is repeated 3 items \n",
            " ' 'is repeated 4 items \n",
            " 'a'is repeated 2 items \n",
            " 'r'is repeated 2 items \n",
            " 'y'is repeated 2 items \n"
          ]
        }
      ]
    },
    {
      "cell_type": "markdown",
      "id": "ae14e4e5",
      "metadata": {
        "id": "ae14e4e5"
      },
      "source": [
        "**18-Write a Python program to find the first non-repeating character in a given string"
      ]
    },
    {
      "cell_type": "code",
      "execution_count": null,
      "id": "d73778e5",
      "metadata": {
        "id": "d73778e5",
        "colab": {
          "base_uri": "https://localhost:8080/",
          "height": 52
        },
        "outputId": "2b5e5967-5a07-4910-b14d-f9223fc93aa0"
      },
      "outputs": [
        {
          "name": "stdout",
          "output_type": "stream",
          "text": [
            "enter a string :hello badry\n"
          ]
        },
        {
          "output_type": "execute_result",
          "data": {
            "text/plain": [
              "'h'"
            ],
            "application/vnd.google.colaboratory.intrinsic+json": {
              "type": "string"
            }
          },
          "metadata": {},
          "execution_count": 65
        }
      ],
      "source": [
        "def count_char_nrepeated(s):\n",
        "  char_count = {}\n",
        "  for char in s:\n",
        "    if char in char_count:\n",
        "      char_count[char] +=1\n",
        "    else :\n",
        "      char_count[char] = 1\n",
        "    for char,count in char_count.items():\n",
        "       if char_count[char]==1:\n",
        "          return char\n",
        "          print(f\"{char} is repeated : {count}\")\n",
        "input_string =input(\"enter a string :\")\n",
        "count_char_nrepeated(input_string)"
      ]
    },
    {
      "cell_type": "markdown",
      "id": "3adf5669",
      "metadata": {
        "id": "3adf5669"
      },
      "source": [
        "**19-Write a Python program to remove spaces from a given string"
      ]
    },
    {
      "cell_type": "code",
      "execution_count": null,
      "id": "b4f22602",
      "metadata": {
        "id": "b4f22602",
        "colab": {
          "base_uri": "https://localhost:8080/",
          "height": 35
        },
        "outputId": "8176df48-78e9-44e8-ad5b-79c7075f1951"
      },
      "outputs": [
        {
          "output_type": "execute_result",
          "data": {
            "text/plain": [
              "'hellohowareyou'"
            ],
            "application/vnd.google.colaboratory.intrinsic+json": {
              "type": "string"
            }
          },
          "metadata": {},
          "execution_count": 71
        }
      ],
      "source": [
        "a = \"hello how are you\"\n",
        "a.replace(\" \",\"\")"
      ]
    },
    {
      "cell_type": "markdown",
      "id": "734de60c",
      "metadata": {
        "id": "734de60c"
      },
      "source": [
        "**20-Write a Python program to count the number of non-empty substrings of a given string"
      ]
    },
    {
      "cell_type": "code",
      "execution_count": null,
      "id": "ef3f2274",
      "metadata": {
        "id": "ef3f2274",
        "colab": {
          "base_uri": "https://localhost:8080/"
        },
        "outputId": "b04c725c-01a6-4d86-9301-377f754c76dc"
      },
      "outputs": [
        {
          "output_type": "stream",
          "name": "stdout",
          "text": [
            "Input a string: hello\n",
            "Number of substrings:\n",
            "15\n"
          ]
        }
      ],
      "source": [
        "def number_of_substrings(str):\n",
        "\tstr_len = len(str);\n",
        "\treturn int(str_len * (str_len + 1) / 2);\n",
        "\n",
        "str1 = input(\"Input a string: \")\n",
        "print(\"Number of substrings:\")\n",
        "print(number_of_substrings(str1))"
      ]
    },
    {
      "cell_type": "markdown",
      "id": "509998e2",
      "metadata": {
        "id": "509998e2"
      },
      "source": [
        "**21-write a Python program to swap first and last element of any list."
      ]
    },
    {
      "cell_type": "code",
      "execution_count": null,
      "id": "68692d7f",
      "metadata": {
        "id": "68692d7f",
        "colab": {
          "base_uri": "https://localhost:8080/"
        },
        "outputId": "d7d5f36a-c330-4c99-bb97-136e7e7cdfa3"
      },
      "outputs": [
        {
          "output_type": "stream",
          "name": "stdout",
          "text": [
            "[8, 2, 3, 4, 5, 6, 7, 1]\n"
          ]
        }
      ],
      "source": [
        "a = [1,2,3,4,5,6,7,8]\n",
        "b =a.pop(0)\n",
        "c = a.pop(-1)\n",
        "a.insert(0,c),a.insert(len(a),b)\n",
        "print(\"after swaping the elemnts the list is :\",a)"
      ]
    },
    {
      "cell_type": "markdown",
      "id": "959e0837",
      "metadata": {
        "id": "959e0837"
      },
      "source": [
        "**22-Given a list in Python and provided the positions of the elements, write a program to swap the two elements in the list. (Input : List = [23, 65, 19, 90], pos1 = 1, pos2 = 3\n",
        "Output : [19, 65, 23, 90])"
      ]
    },
    {
      "cell_type": "code",
      "execution_count": null,
      "id": "225d8c6d",
      "metadata": {
        "id": "225d8c6d",
        "colab": {
          "base_uri": "https://localhost:8080/"
        },
        "outputId": "ae59aa69-dfcf-456a-887f-767eb33e7e5a"
      },
      "outputs": [
        {
          "output_type": "stream",
          "name": "stdout",
          "text": [
            "[19, 65, 23, 90]\n"
          ]
        }
      ],
      "source": [
        "list1= [23, 65, 19, 90]\n",
        "pos1 =list1.pop(0)\n",
        "pos2 = list1.pop(1)\n",
        "list1.insert(0,pos2),list1.insert(2,pos1)\n",
        "print(list1)"
      ]
    },
    {
      "cell_type": "markdown",
      "id": "66fc6682",
      "metadata": {
        "id": "66fc6682"
      },
      "source": [
        "**23- search for the all ways to know the length of the list"
      ]
    },
    {
      "cell_type": "code",
      "source": [
        "#Using len() function.\n",
        "#USING for or while loop\n",
        "#Using Naive Method.\n",
        "#Using length_hint()\n",
        "#Using sum() method.\n",
        "#Using a list comprehension.\n",
        "#Using recursion.\n",
        "#Using enumerate function.\n",
        "#Using Collections Module."
      ],
      "metadata": {
        "id": "0x8RQQ68EH-k"
      },
      "id": "0x8RQQ68EH-k",
      "execution_count": null,
      "outputs": []
    },
    {
      "cell_type": "code",
      "execution_count": null,
      "id": "63ff8b43",
      "metadata": {
        "id": "63ff8b43"
      },
      "outputs": [],
      "source": [
        "**24-write a Python code to find the Maximum number of list of numbers."
      ]
    },
    {
      "cell_type": "code",
      "execution_count": null,
      "id": "15f342de",
      "metadata": {
        "id": "15f342de",
        "colab": {
          "base_uri": "https://localhost:8080/"
        },
        "outputId": "f9633db6-9b54-4101-b516-221bc8d98b0f"
      },
      "outputs": [
        {
          "output_type": "stream",
          "name": "stdout",
          "text": [
            "410\n"
          ]
        }
      ],
      "source": [
        "a= [5,7,8,9,410,11]\n",
        "print(max(a))"
      ]
    },
    {
      "cell_type": "code",
      "execution_count": null,
      "id": "1a89b9d3",
      "metadata": {
        "id": "1a89b9d3"
      },
      "outputs": [],
      "source": [
        "**25-write a Python code to find the Minimum number of list of numbers."
      ]
    },
    {
      "cell_type": "code",
      "execution_count": null,
      "id": "21f8cbd6",
      "metadata": {
        "id": "21f8cbd6",
        "colab": {
          "base_uri": "https://localhost:8080/"
        },
        "outputId": "b98e8e42-9132-4cbb-a399-7e807a7f0940"
      },
      "outputs": [
        {
          "output_type": "stream",
          "name": "stdout",
          "text": [
            "7\n"
          ]
        }
      ],
      "source": [
        "a = [7,88,91,11,24,36]\n",
        "print(min(a))"
      ]
    },
    {
      "cell_type": "markdown",
      "id": "96822d96",
      "metadata": {
        "id": "96822d96"
      },
      "source": [
        "**26-search for if an elem is existing in list"
      ]
    },
    {
      "cell_type": "code",
      "execution_count": null,
      "id": "51ca5c9a",
      "metadata": {
        "id": "51ca5c9a",
        "colab": {
          "base_uri": "https://localhost:8080/"
        },
        "outputId": "f39fd992-c342-4ea8-e8c9-a593c1ec15c3"
      },
      "outputs": [
        {
          "output_type": "stream",
          "name": "stdout",
          "text": [
            "not exist\n"
          ]
        }
      ],
      "source": [
        "lst=[ 1, 6, 3, 5, 3, 4 ]\n",
        "\n",
        "i=7\n",
        "\n",
        "if i in lst:\n",
        "\tprint(\"exist\")\n",
        "else:\n",
        "\tprint(\"not exist\")\n",
        "\n",
        "\n"
      ]
    },
    {
      "cell_type": "markdown",
      "id": "d9557da7",
      "metadata": {
        "id": "d9557da7"
      },
      "source": [
        "**27- clear python list using different ways"
      ]
    },
    {
      "cell_type": "code",
      "execution_count": null,
      "id": "b69858a3",
      "metadata": {
        "id": "b69858a3",
        "colab": {
          "base_uri": "https://localhost:8080/"
        },
        "outputId": "19b4dd89-7f40-4165-a59e-3ffaf7cc63f6"
      },
      "outputs": [
        {
          "output_type": "stream",
          "name": "stdout",
          "text": [
            "[]\n",
            "[]\n",
            "[]\n",
            "[]\n"
          ]
        }
      ],
      "source": [
        "a = [1,4,5,6,7,8]\n",
        "b= [1,4,5,6,7,8]\n",
        "c = [1,4,5,6,7,8]\n",
        "n= [1,4,5,6,7,8]\n",
        "a.clear()\n",
        "del b[:]\n",
        "c = []\n",
        "n *=0\n",
        "print(a)\n",
        "print(b)\n",
        "print(c)\n",
        "print(n)\n"
      ]
    },
    {
      "cell_type": "markdown",
      "id": "52160e88",
      "metadata": {
        "id": "52160e88"
      },
      "source": [
        "**28-remove duplicated elements from a list"
      ]
    },
    {
      "cell_type": "code",
      "execution_count": null,
      "id": "5e362228",
      "metadata": {
        "id": "5e362228",
        "colab": {
          "base_uri": "https://localhost:8080/"
        },
        "outputId": "4e4c3ad1-3421-4ab5-9345-f560f46dae0a"
      },
      "outputs": [
        {
          "output_type": "stream",
          "name": "stdout",
          "text": [
            "[1, 2, 3, 4, 5]\n"
          ]
        }
      ],
      "source": [
        "a=[1,2,3,1,4,5,4,5]\n",
        "res = [*set(a)]\n",
        "print(res)\n",
        "\n",
        "\n"
      ]
    },
    {
      "cell_type": "markdown",
      "id": "282337f7",
      "metadata": {
        "id": "282337f7"
      },
      "source": [
        "**29-Given list values and keys list, convert these values to key value pairs in form of list of dictionaries. (Input : test_list = [“Gfg”, 3, “is”, 8], key_list = [“name”, “id”]\n",
        "Output : [{‘name’: ‘Gfg’, ‘id’: 3}, {‘name’: ‘is’, ‘id’: 8}])"
      ]
    },
    {
      "cell_type": "code",
      "execution_count": null,
      "id": "4d4e2d28",
      "metadata": {
        "id": "4d4e2d28",
        "colab": {
          "base_uri": "https://localhost:8080/"
        },
        "outputId": "03ad6c0a-aa10-4aa2-a213-0b5b29f8ad45"
      },
      "outputs": [
        {
          "output_type": "stream",
          "name": "stdout",
          "text": [
            "The constructed dictionary list :  [{'name': 'Gfg', 'id': 3}, {'name': 'is', 'id': 8}]\n"
          ]
        }
      ],
      "source": [
        "from IPython.testing import test\n",
        "test_list = [\"Gfg\", 3, \"is\", 8]\n",
        "keys_list = [\"name\",\"id\"]\n",
        "n = len(test_list)\n",
        "res = []\n",
        "for i in range(0,n,2):\n",
        "  res.append({keys_list[0]: test_list[i], keys_list[1] : test_list[i+1]})\n",
        "\n",
        "print(\"The constructed dictionary list : \" , str(res))\n",
        "\n",
        "\n"
      ]
    },
    {
      "cell_type": "markdown",
      "id": "c26b6e9f",
      "metadata": {
        "id": "c26b6e9f"
      },
      "source": [
        "**30-write a python program to count unique values inside a list using different ways"
      ]
    },
    {
      "cell_type": "code",
      "source": [
        "input_list = [1, 2, 2, 5, 8, 4, 4, 8]\n",
        "\n",
        "# converting our list to set\n",
        "new_set = set(input_list)\n",
        "print(\"No of unique items in the list are:\", len(new_set))\n"
      ],
      "metadata": {
        "colab": {
          "base_uri": "https://localhost:8080/"
        },
        "id": "MIRQFCqH7zoH",
        "outputId": "f3518f7c-19e4-4e15-ab86-71c43aa548f2"
      },
      "id": "MIRQFCqH7zoH",
      "execution_count": null,
      "outputs": [
        {
          "output_type": "stream",
          "name": "stdout",
          "text": [
            "No of unique items in the list are: 5\n"
          ]
        }
      ]
    },
    {
      "cell_type": "code",
      "source": [
        "from collections import Counter\n",
        "\n",
        "\n",
        "input_list = [1, 2, 2, 5, 8, 4, 4, 8]\n",
        "\n",
        "items = Counter(input_list).keys()\n",
        "print(\"No of unique items in the list are:\", len(items))\n"
      ],
      "metadata": {
        "colab": {
          "base_uri": "https://localhost:8080/"
        },
        "id": "ZSHJSRlN6acH",
        "outputId": "8960d17b-ce73-4cd3-afed-1ff0bce4bcaa"
      },
      "id": "ZSHJSRlN6acH",
      "execution_count": null,
      "outputs": [
        {
          "output_type": "stream",
          "name": "stdout",
          "text": [
            "No of unique items in the list are: 5\n"
          ]
        }
      ]
    },
    {
      "cell_type": "code",
      "execution_count": null,
      "id": "72132667",
      "metadata": {
        "id": "72132667"
      },
      "outputs": [],
      "source": [
        "input_list = [1, 2, 2, 5, 8, 4, 4, 8]\n",
        "l1 = []\n",
        "count = 0\n",
        "for item in input_list:\n",
        "    if item not in l1:\n",
        "        count += 1\n",
        "        l1.append(item)\n",
        "print(\"No of unique items are:\", count)"
      ]
    },
    {
      "cell_type": "markdown",
      "id": "fed6677c",
      "metadata": {
        "id": "fed6677c"
      },
      "source": [
        "**31-write a python program Extract all elements with Frequency greater than K (Input : test_list = [4, 6, 4, 3, 3, 4, 3, 4, 3, 8], K = 3\n",
        "Output : [4, 3] )"
      ]
    },
    {
      "cell_type": "code",
      "source": [
        "from collections import Counter\n",
        "\n",
        "test_list = [4,5,6,3,3,3,3,4,4,4,8]\n",
        "k = 3\n",
        "freq_dict = Counter(test_list)\n",
        "res = list(filter(lambda ele : freq_dict[ele]>k,freq_dict))\n",
        "print(\"The required elements : \" + str(res))"
      ],
      "metadata": {
        "colab": {
          "base_uri": "https://localhost:8080/"
        },
        "id": "lslJXYNyDXzk",
        "outputId": "ff9a9407-9dda-4d63-c229-1addd342f41c"
      },
      "id": "lslJXYNyDXzk",
      "execution_count": null,
      "outputs": [
        {
          "output_type": "stream",
          "name": "stdout",
          "text": [
            "The required elements : [4, 3]\n"
          ]
        }
      ]
    },
    {
      "cell_type": "markdown",
      "id": "caca5224",
      "metadata": {
        "id": "caca5224"
      },
      "source": [
        "**32-write a python program to find the Strongest Neighbour (Input: 1 2 2 3 4 5\n",
        "Output: 2 2 3 4 5)"
      ]
    },
    {
      "cell_type": "code",
      "execution_count": null,
      "id": "39fbd9b2",
      "metadata": {
        "id": "39fbd9b2",
        "colab": {
          "base_uri": "https://localhost:8080/"
        },
        "outputId": "8cf784eb-babc-4dcc-f2a2-08fbab1e9a3b"
      },
      "outputs": [
        {
          "output_type": "stream",
          "name": "stdout",
          "text": [
            "2 2 3 4 5 "
          ]
        }
      ],
      "source": [
        "def maximumAdjacent(arr1, n):\n",
        "\tarr2 = []\n",
        "\tfor i in range(1, n):\n",
        "\t\tr = max(arr1[i], arr1[i-1])\n",
        "\t\tarr2.append(r)\n",
        "\n",
        "\tfor ele in arr2 :\n",
        "\t\tprint(ele,end=\" \")\n",
        "\n",
        "if __name__ == \"__main__\" :\n",
        "\n",
        "  n = 6\n",
        "\n",
        "arr1 = [1,2,2,3,4,5]\n",
        "\n",
        "maximumAdjacent(arr1, n)\n"
      ]
    },
    {
      "cell_type": "code",
      "source": [
        "\n"
      ],
      "metadata": {
        "colab": {
          "base_uri": "https://localhost:8080/"
        },
        "id": "atHAe_k3LNQU",
        "outputId": "1e0e8cb6-738b-4a65-d2e0-226b7d694059"
      },
      "id": "atHAe_k3LNQU",
      "execution_count": null,
      "outputs": [
        {
          "output_type": "stream",
          "name": "stdout",
          "text": [
            "Enter three space-separated digits: 123\n",
            "Possible Combinations:\n",
            "123\n"
          ]
        }
      ]
    },
    {
      "cell_type": "markdown",
      "id": "a9fa8baf",
      "metadata": {
        "id": "a9fa8baf"
      },
      "source": [
        "**33-write a Python Program to print all Possible Combinations from the three Digits (Input: [1, 2, 3]\n",
        "Output:\n",
        "1 2 3 ##\n",
        "1 3 2 ##\n",
        "2 1 3 ##\n",
        "2 3 1 ##\n",
        "3 1 2 ##\n",
        "3 2 1)"
      ]
    },
    {
      "cell_type": "code",
      "source": [
        "from itertools import permutations\n",
        "\n",
        "# Get all combination of [1, 2, 3]\n",
        "# of length 3\n",
        "comb = permutations([1, 2, 3], 3)\n",
        "\n",
        "for i in comb:\n",
        "    print(i,end = \"## \")"
      ],
      "metadata": {
        "colab": {
          "base_uri": "https://localhost:8080/"
        },
        "id": "qtj7rzajLX04",
        "outputId": "cd370448-8da2-40df-d26b-fc6f6a716195"
      },
      "id": "qtj7rzajLX04",
      "execution_count": null,
      "outputs": [
        {
          "output_type": "stream",
          "name": "stdout",
          "text": [
            "(1, 2, 3)## (1, 3, 2)## (2, 1, 3)## (2, 3, 1)## (3, 1, 2)## (3, 2, 1)## "
          ]
        }
      ]
    },
    {
      "cell_type": "markdown",
      "id": "5288bb89",
      "metadata": {
        "id": "5288bb89"
      },
      "source": [
        "**34-write a Python program to find all the Combinations in the list with the given condition (Input: test_list = [1,2,3]\n",
        "Output:\n",
        " [1], [1, 2], [1, 2, 3], [1, 3]\n",
        " [2], [2, 3], [3])"
      ]
    },
    {
      "cell_type": "code",
      "execution_count": null,
      "id": "59b89646",
      "metadata": {
        "id": "59b89646",
        "colab": {
          "base_uri": "https://localhost:8080/"
        },
        "outputId": "00da7197-aad3-4877-9112-9a4ca3ac2417"
      },
      "outputs": [
        {
          "output_type": "stream",
          "name": "stdout",
          "text": [
            "[1] [1, 2],[2] [1, 3],[3] [2, 3],"
          ]
        }
      ],
      "source": [
        "from itertools import combinations\n",
        "# initializing list\n",
        "test_list = [1,2,3]\n",
        "idx=0\n",
        "temp = combinations(test_list, 2)\n",
        "for i in list(temp):\n",
        "    idx = idx+1\n",
        "\n",
        "    print ([idx], list(i),end = \",\")"
      ]
    },
    {
      "cell_type": "markdown",
      "id": "39973705",
      "metadata": {
        "id": "39973705"
      },
      "source": [
        "**35-write a Python program to get all unique combinations of two Lists (List_1 = [\"a\",\"b\"]\n",
        "List_2 = [1,2]\n",
        "Unique_combination = [[('a',1),('b',2)],[('a',2),('b',1)]] )"
      ]
    },
    {
      "cell_type": "code",
      "execution_count": null,
      "id": "8c4ba22b",
      "metadata": {
        "id": "8c4ba22b",
        "colab": {
          "base_uri": "https://localhost:8080/"
        },
        "outputId": "b3dcbc80-b478-4ea3-d599-3964ed43ebc2"
      },
      "outputs": [
        {
          "output_type": "stream",
          "name": "stdout",
          "text": [
            "[('a', 1), ('a', 2), ('b', 1), ('b', 2)]\n"
          ]
        }
      ],
      "source": [
        "list1 = [\"a\",\"b\"]\n",
        "list2 = [1,2]\n",
        "unique = []\n",
        "for i in range(len(list1)):\n",
        "  for j in range(len(list2)):\n",
        "    unique.append((list1[i],list2[j]))\n",
        "print(unique)\n",
        "\n"
      ]
    },
    {
      "cell_type": "markdown",
      "id": "25199af5",
      "metadata": {
        "id": "25199af5"
      },
      "source": [
        "**36-Remove all the occurrences of an element from a list in Python (Input : 1 1 2 3 4 5 1 2 1\n",
        "\n",
        "**Output : 2 3 4 5 2)"
      ]
    },
    {
      "cell_type": "code",
      "execution_count": null,
      "id": "6dc4c2ba",
      "metadata": {
        "id": "6dc4c2ba",
        "colab": {
          "base_uri": "https://localhost:8080/"
        },
        "outputId": "09e762f5-ead0-408a-d16f-b122eda713f4"
      },
      "outputs": [
        {
          "output_type": "stream",
          "name": "stdout",
          "text": [
            "[2, 3, 4, 5, 2]\n"
          ]
        }
      ],
      "source": [
        "test_list = [1,1,2,3,4,5,1,2,1]\n",
        "ele=1\n",
        "x=[i for i in test_list if i!=ele]\n",
        "print(x)"
      ]
    },
    {
      "cell_type": "markdown",
      "id": "bf1a3c93",
      "metadata": {
        "id": "bf1a3c93"
      },
      "source": [
        "**37-write a python program to Replace index elements with elements in Other List (The original list 1 is : [‘Gfg’, ‘is’, ‘best’] The original list 2 is : [0, 1, 2, 1, 0, 0, 0, 2, 1, 1, 2, 0] The lists after index elements replacements is : [‘Gfg’, ‘is’, ‘best’, ‘is’, ‘Gfg’, ‘Gfg’, ‘Gfg’, ‘best’, ‘is’, ‘is’, ‘best’, ‘Gfg’])"
      ]
    },
    {
      "cell_type": "code",
      "source": [
        "test_list1 = ['Gfg', 'is', 'best']\n",
        "test_list2 = [0, 1, 2, 1, 0, 0, 0, 2, 1, 1, 2, 0]\n",
        "res = [test_list1[i]for i in test_list2]\n",
        "print (\"The lists after index elements replacements is : \" + str(res))"
      ],
      "metadata": {
        "colab": {
          "base_uri": "https://localhost:8080/"
        },
        "id": "lWl9DJKEZtmk",
        "outputId": "28bcfd56-b8e0-40a3-fd75-cb456f39f2a3"
      },
      "id": "lWl9DJKEZtmk",
      "execution_count": null,
      "outputs": [
        {
          "output_type": "stream",
          "name": "stdout",
          "text": [
            "The lists after index elements replacements is : ['Gfg', 'is', 'best', 'is', 'Gfg', 'Gfg', 'Gfg', 'best', 'is', 'is', 'best', 'Gfg']\n"
          ]
        }
      ]
    },
    {
      "cell_type": "markdown",
      "id": "af0f56e8",
      "metadata": {
        "id": "af0f56e8"
      },
      "source": [
        "**38- write python program to Retain records with N occurrences of K(Input : test_list = [(4, 5, 5, 4), (5, 4, 3)], K = 5, N = 2\n",
        "Output : [(4, 5, 5, 4)]\n",
        "Input : test_list = [(4, 5, 5, 4), (5, 4, 3)], K = 5, N = 3\n",
        "Output : [] )"
      ]
    },
    {
      "cell_type": "code",
      "execution_count": null,
      "id": "67b06671",
      "metadata": {
        "id": "67b06671",
        "colab": {
          "base_uri": "https://localhost:8080/"
        },
        "outputId": "7effc338-081b-4112-f689-f064195dabaa"
      },
      "outputs": [
        {
          "output_type": "stream",
          "name": "stdout",
          "text": [
            "Filtered tuples : [(4, 5, 5, 4)]\n"
          ]
        }
      ],
      "source": [
        "test_list =[(4, 5, 5, 4), (5, 4, 3)]\n",
        "k = 5\n",
        "N = 2\n",
        "res = [ele for ele in test_list if ele.count(k)==N]\n",
        "print(\"Filtered tuples : \" + str(res))"
      ]
    },
    {
      "cell_type": "markdown",
      "id": "de76f183",
      "metadata": {
        "id": "de76f183"
      },
      "source": [
        "**39-write a Python Program to Sort the list according to the column using lambda\n",
        "array = [[1, 3, 3], [2, 1, 2], [3, 2, 1]]\n",
        "Output :\n",
        "Sorted array specific to column 0, [[1, 3, 3], [2, 1, 2], [3, 2, 1]]\n",
        "Sorted array specific to column 1, [[2, 1, 2], [3, 2, 1], [1, 3, 3]]\n",
        "Sorted array specific to column 2, [[3, 2, 1], [2, 1, 2], [1, 3, 3]]"
      ]
    },
    {
      "cell_type": "code",
      "execution_count": null,
      "id": "dc883308",
      "metadata": {
        "id": "dc883308",
        "colab": {
          "base_uri": "https://localhost:8080/"
        },
        "outputId": "7a13cd62-d6c4-427a-bbe7-276119dc460a"
      },
      "outputs": [
        {
          "output_type": "stream",
          "name": "stdout",
          "text": [
            "Sorted array specific to column 0, [[1, 3, 3], [2, 1, 2], [3, 2, 1]]\n",
            "Sorted array specific to column 1, [[2, 1, 2], [3, 2, 1], [1, 3, 3]]\n",
            "Sorted array specific to column 2, [[3, 2, 1], [2, 1, 2], [1, 3, 3]]\n"
          ]
        }
      ],
      "source": [
        "array = [[1, 3, 3], [2, 1, 2], [3, 2, 1]]\n",
        "\n",
        "def sort_by_column(arr, col):\n",
        "    arr.sort(key=lambda x: x[col])\n",
        "    return arr\n",
        "\n",
        "for i in range(len(array[0])):\n",
        "    sorted_array = sort_by_column(array.copy(), i)\n",
        "    print(f\"Sorted array specific to column {i}, {sorted_array}\")\n"
      ]
    },
    {
      "cell_type": "code",
      "execution_count": null,
      "id": "d2e7b31f",
      "metadata": {
        "id": "d2e7b31f"
      },
      "outputs": [],
      "source": [
        "**40- write a program to Sort Python Dictionaries by Key or Value\n",
        "Input:\n",
        "{'ravi': 10, 'rajnish': 9, 'sanjeev': 15, 'yash': 2, 'suraj': 32}\n",
        "\n",
        "Output:\n",
        "{'rajnish': 9, 'ravi': 10, 'sanjeev': 15, 'suraj': 32, 'yash': 2}"
      ]
    },
    {
      "cell_type": "code",
      "execution_count": null,
      "id": "a96db4a0",
      "metadata": {
        "id": "a96db4a0",
        "colab": {
          "base_uri": "https://localhost:8080/"
        },
        "outputId": "b47dc0ad-9b33-40c7-cae5-a99e90b89160"
      },
      "outputs": [
        {
          "output_type": "stream",
          "name": "stdout",
          "text": [
            "{'rajnish': 9, 'ravi': 10, 'sanjeev': 15, 'suraj': 32, 'yash': 2}\n"
          ]
        }
      ],
      "source": [
        "myDict = {'ravi': 10, 'rajnish': 9, 'sanjeev': 15, 'yash': 2, 'suraj': 32}\n",
        "mykeys = list(myDict.keys())\n",
        "mykeys.sort()\n",
        "sorted_dict = {i: myDict[i] for i in mykeys}\n",
        "print(sorted_dict)"
      ]
    },
    {
      "cell_type": "markdown",
      "id": "ec63c23a",
      "metadata": {
        "id": "ec63c23a"
      },
      "source": [
        "**41-write python program to Remove keys with Values Greater than K ( Including mixed values )\n",
        "nput : test_dict = {‘Gfg’ : 3, ‘is’ : 7, ‘best’ : 10, ‘for’ : 6, ‘geeks’ : ‘CS’},\n",
        "K = 7\n",
        "Output : {‘Gfg’ : 3, ‘for’ : 6, ‘geeks’ : ‘CS’}"
      ]
    },
    {
      "cell_type": "code",
      "execution_count": null,
      "id": "e39c3a40",
      "metadata": {
        "id": "e39c3a40",
        "colab": {
          "base_uri": "https://localhost:8080/"
        },
        "outputId": "80cad690-1f45-4d87-a7ba-bf1d05a7b84f"
      },
      "outputs": [
        {
          "output_type": "stream",
          "name": "stdout",
          "text": [
            " constructed dictionary :  {'Gfg': 3, 'geeks': 'cs'}\n"
          ]
        }
      ],
      "source": [
        "test_dict = {'Gfg' : 3, 'is' : 7, 'best' : 10, 'for' : 6, \"geeks\" : \"cs\"}\n",
        "K = 7\n",
        "res = {}\n",
        "for key in test_dict:\n",
        "  if not(isinstance(test_dict[key],int) and test_dict[key]>k):\n",
        "    res[key] = test_dict[key]\n",
        "print(\" constructed dictionary : \",str(res))\n"
      ]
    },
    {
      "cell_type": "markdown",
      "id": "f143f0fe",
      "metadata": {
        "id": "f143f0fe"
      },
      "source": [
        "**42-Write a Python program to concatenate the following dictionaries to create a new one\n",
        "\n",
        "Sample Dictionary :\n",
        "dic1={1:10, 2:20}\n",
        "dic2={3:30, 4:40}\n",
        "dic3={5:50,6:60}\n",
        "Expected Result : {1: 10, 2: 20, 3: 30, 4: 40, 5: 50, 6: 60}"
      ]
    },
    {
      "cell_type": "code",
      "execution_count": null,
      "id": "74ffdfea",
      "metadata": {
        "id": "74ffdfea",
        "colab": {
          "base_uri": "https://localhost:8080/"
        },
        "outputId": "4c4da072-6132-41bb-c33f-b34e525f4c52"
      },
      "outputs": [
        {
          "output_type": "stream",
          "name": "stdout",
          "text": [
            "{1: 10, 2: 20, 3: 30, 4: 40, 5: 50, 6: 60}\n"
          ]
        }
      ],
      "source": [
        "dic1={1:10, 2:20}\n",
        "dic2={3:30, 4:40}\n",
        "dic3={5:50,6:60}\n",
        "dict4 = {}\n",
        "for i in (dic1,dic2,dic3):dict4.update(i)\n",
        "print(dict4)\n"
      ]
    },
    {
      "cell_type": "markdown",
      "id": "fb04c93c",
      "metadata": {
        "id": "fb04c93c"
      },
      "source": [
        "**43-Write a Python program to iterate over dictionaries using for loops"
      ]
    },
    {
      "cell_type": "code",
      "execution_count": null,
      "id": "6aebc470",
      "metadata": {
        "id": "6aebc470",
        "colab": {
          "base_uri": "https://localhost:8080/"
        },
        "outputId": "e9456e85-1bfb-46f6-be4c-db77c7c124de"
      },
      "outputs": [
        {
          "output_type": "stream",
          "name": "stdout",
          "text": [
            "Red corispond to 1\n",
            "Green corispond to 2\n",
            "Blue corispond to 3\n"
          ]
        }
      ],
      "source": [
        "d = {'Red': 1, 'Green': 2, 'Blue': 3}\n",
        "for col_key,value in d.items():\n",
        "  print(col_key,\"corispond to\",d[col_key])"
      ]
    },
    {
      "cell_type": "markdown",
      "id": "5f491a9d",
      "metadata": {
        "id": "5f491a9d"
      },
      "source": [
        "**44- Write a Python script to merge two Python dictionaries"
      ]
    },
    {
      "cell_type": "code",
      "execution_count": null,
      "id": "b8a14028",
      "metadata": {
        "id": "b8a14028",
        "colab": {
          "base_uri": "https://localhost:8080/"
        },
        "outputId": "83d4b38c-be18-4613-a0dc-1729cea2ed9c"
      },
      "outputs": [
        {
          "output_type": "stream",
          "name": "stdout",
          "text": [
            "{'a': 100, 'b': 200, 'x': 300, 'y': 200}\n"
          ]
        }
      ],
      "source": [
        "d1 = {'a': 100, 'b': 200}\n",
        "d2 = {'x': 300, 'y': 200}\n",
        "d1.update(d2)\n",
        "print(d1)"
      ]
    },
    {
      "cell_type": "markdown",
      "id": "216fc72d",
      "metadata": {
        "id": "216fc72d"
      },
      "source": [
        "**45-Write a Python program to get the maximum and minimum values of a dictionary values"
      ]
    },
    {
      "cell_type": "code",
      "execution_count": null,
      "id": "d6883f5f",
      "metadata": {
        "id": "d6883f5f",
        "colab": {
          "base_uri": "https://localhost:8080/"
        },
        "outputId": "65260cfd-b3e2-411f-8062-e75361388792"
      },
      "outputs": [
        {
          "output_type": "stream",
          "name": "stdout",
          "text": [
            "300\n",
            "100\n"
          ]
        }
      ],
      "source": [
        "d ={'a': 100, 'b': 200, 'x': 300, 'y': 200}\n",
        "print(max(d.values()))\n",
        "print(min(d.values()))\n"
      ]
    },
    {
      "cell_type": "markdown",
      "id": "b6a53011",
      "metadata": {
        "id": "b6a53011"
      },
      "source": [
        "**46- Write a Python program to drop empty items from a given dictionary.\n",
        "Original Dictionary:\n",
        "{'c1': 'Red', 'c2': 'Green', 'c3': None}\n",
        "New Dictionary after dropping empty items:\n",
        "{'c1': 'Red', 'c2': 'Green'}"
      ]
    },
    {
      "cell_type": "code",
      "execution_count": null,
      "id": "b5c6fecf",
      "metadata": {
        "id": "b5c6fecf",
        "colab": {
          "base_uri": "https://localhost:8080/"
        },
        "outputId": "7fa78aaa-be6d-4db6-840b-87a82957a1e7"
      },
      "outputs": [
        {
          "output_type": "stream",
          "name": "stdout",
          "text": [
            "3\n"
          ]
        }
      ],
      "source": [
        "d1= {'c1': 'Red', 'c2': 'Green', 'c3': None}\n",
        "d1 = {key:value for (key,value) in d1.items() if value is not None }\n",
        "print(d1)\n"
      ]
    },
    {
      "cell_type": "markdown",
      "id": "46d718c7",
      "metadata": {
        "id": "46d718c7"
      },
      "source": [
        "**47-Write a Python program to create a tuple of numbers and print one item"
      ]
    },
    {
      "cell_type": "code",
      "execution_count": 2,
      "id": "13216ff5",
      "metadata": {
        "id": "13216ff5",
        "colab": {
          "base_uri": "https://localhost:8080/"
        },
        "outputId": "3a06313a-1947-4b60-ca40-734464629ed9"
      },
      "outputs": [
        {
          "output_type": "stream",
          "name": "stdout",
          "text": [
            "(5,)\n"
          ]
        }
      ],
      "source": [
        "a= (1,2,3,4,5)\n",
        "a = (5,)\n",
        "print(a)"
      ]
    },
    {
      "cell_type": "markdown",
      "id": "2be5b56b",
      "metadata": {
        "id": "2be5b56b"
      },
      "source": [
        "**48-Write a Python program to unpack a tuple into several variables"
      ]
    },
    {
      "cell_type": "code",
      "execution_count": 6,
      "id": "595f44be",
      "metadata": {
        "id": "595f44be",
        "colab": {
          "base_uri": "https://localhost:8080/"
        },
        "outputId": "7ccbcab1-2bdd-4ca6-ac9f-769e924719c0"
      },
      "outputs": [
        {
          "output_type": "stream",
          "name": "stdout",
          "text": [
            "6\n"
          ]
        }
      ],
      "source": [
        "tuplex= (1,2,3)\n",
        "n1,n2,n3 = tuplex\n",
        "print(n1+n2+n3)\n"
      ]
    },
    {
      "cell_type": "markdown",
      "id": "392388a7",
      "metadata": {
        "id": "392388a7"
      },
      "source": [
        "**49-Write a Python program to add an item to a tuple"
      ]
    },
    {
      "cell_type": "code",
      "execution_count": 7,
      "id": "54cc092e",
      "metadata": {
        "id": "54cc092e",
        "colab": {
          "base_uri": "https://localhost:8080/"
        },
        "outputId": "26233a15-c643-4fa2-b623-dba39a32139b"
      },
      "outputs": [
        {
          "output_type": "stream",
          "name": "stdout",
          "text": [
            "(1, 2, 3, 4, 5)\n"
          ]
        }
      ],
      "source": [
        "tuplex= (1,2,3,4)\n",
        "tuplex =tuplex+(5,)\n",
        "print(tuplex)"
      ]
    },
    {
      "cell_type": "markdown",
      "id": "3e8fd124",
      "metadata": {
        "id": "3e8fd124"
      },
      "source": [
        "**50-Write a Python program to convert a tuple to a string"
      ]
    },
    {
      "cell_type": "code",
      "execution_count": 11,
      "id": "92a71ddc",
      "metadata": {
        "id": "92a71ddc",
        "colab": {
          "base_uri": "https://localhost:8080/"
        },
        "outputId": "b22c0820-2499-42b9-8dcf-f35e85d250cc"
      },
      "outputs": [
        {
          "output_type": "stream",
          "name": "stdout",
          "text": [
            "exer\n"
          ]
        }
      ],
      "source": [
        "tuplex= ('e', 'x', 'e', 'r')\n",
        "str = ''.join(tuplex)\n",
        "print(str)\n"
      ]
    },
    {
      "cell_type": "markdown",
      "id": "f4f64ef4",
      "metadata": {
        "id": "f4f64ef4"
      },
      "source": [
        "**51-Write a Python program to convert a list to a tuple"
      ]
    },
    {
      "cell_type": "code",
      "execution_count": 12,
      "id": "210d56d3",
      "metadata": {
        "id": "210d56d3",
        "colab": {
          "base_uri": "https://localhost:8080/"
        },
        "outputId": "771e1653-bd91-472d-ebf0-29061e68f2f5"
      },
      "outputs": [
        {
          "output_type": "stream",
          "name": "stdout",
          "text": [
            "(1, 2, 3, 4, 5, 8)\n"
          ]
        }
      ],
      "source": [
        "a = [1,2,3,4,5,8]\n",
        "print(tuple(a))"
      ]
    },
    {
      "cell_type": "markdown",
      "id": "b1e00ef7",
      "metadata": {
        "id": "b1e00ef7"
      },
      "source": [
        "**52-Write a Python program to reverse a tuple"
      ]
    },
    {
      "cell_type": "code",
      "execution_count": 16,
      "id": "f45bfdc7",
      "metadata": {
        "id": "f45bfdc7",
        "colab": {
          "base_uri": "https://localhost:8080/"
        },
        "outputId": "ea8b726e-4577-4530-8ac2-690de66d9cc0"
      },
      "outputs": [
        {
          "output_type": "stream",
          "name": "stdout",
          "text": [
            "(20, 15, 10, 5)\n"
          ]
        }
      ],
      "source": [
        "x = (5, 10, 15, 20)\n",
        "y = reversed(x)\n",
        "print(tuple(y))"
      ]
    },
    {
      "cell_type": "markdown",
      "id": "3cd347d1",
      "metadata": {
        "id": "3cd347d1"
      },
      "source": [
        "**53-Write a Python program to replace the last value of tuples in a list.\n",
        "Sample list: [(10, 20, 40), (40, 50, 60), (70, 80, 90)]\n",
        "Expected Output: [(10, 20, 100), (40, 50, 100), (70, 80, 100)]"
      ]
    },
    {
      "cell_type": "code",
      "execution_count": 21,
      "id": "3c4a2a4c",
      "metadata": {
        "id": "3c4a2a4c",
        "colab": {
          "base_uri": "https://localhost:8080/"
        },
        "outputId": "1406424d-46af-41cf-db8d-39a5e17fe1ce"
      },
      "outputs": [
        {
          "output_type": "stream",
          "name": "stdout",
          "text": [
            "[(10, 20, 100), (40, 50, 100), (70, 80, 100)]\n"
          ]
        }
      ],
      "source": [
        "a =[(10, 20, 40), (40, 50, 60), (70, 80, 90)]\n",
        "print([t[:-1] + (100,) for t in a])\n",
        ""
      ]
    },
    {
      "cell_type": "markdown",
      "id": "76bb7b39",
      "metadata": {
        "id": "76bb7b39"
      },
      "source": [
        "**54-Write a Python program to convert a given string list to a tuple\n",
        "Original string: python 3.0\n",
        "<class 'str'>\n",
        "Convert the said string to a tuple:\n",
        "('p', 'y', 't', 'h', 'o', 'n', '3', '.', '0')"
      ]
    },
    {
      "cell_type": "code",
      "execution_count": 22,
      "id": "51951937",
      "metadata": {
        "id": "51951937",
        "colab": {
          "base_uri": "https://localhost:8080/"
        },
        "outputId": "27596c3b-574b-4a32-b6f1-792a164ccd22"
      },
      "outputs": [
        {
          "output_type": "stream",
          "name": "stdout",
          "text": [
            "python 3.0\n",
            "<class 'str'>\n",
            "Convert the said string to a tuple:\n",
            "('p', 'y', 't', 'h', 'o', 'n', '3', '.', '0')\n",
            "<class 'tuple'>\n"
          ]
        }
      ],
      "source": [
        "def string_list_to_tuple(str1):\n",
        "    result = tuple(x for x in str1 if not x.isspace())\n",
        "    return result\n",
        "str1 = \"python 3.0\"\n",
        "print(str1)\n",
        "print(type(str1))\n",
        "print(\"Convert the said string to a tuple:\")\n",
        "print(string_list_to_tuple(str1))\n",
        "print(type(string_list_to_tuple(str1)))"
      ]
    },
    {
      "cell_type": "markdown",
      "id": "5a1d5d97",
      "metadata": {
        "id": "5a1d5d97"
      },
      "source": [
        "**55-Write a Python program to calculate the average value of the numbers in a given tuple of tuples"
      ]
    },
    {
      "cell_type": "code",
      "execution_count": null,
      "id": "834e7992",
      "metadata": {
        "id": "834e7992"
      },
      "outputs": [],
      "source": [
        "def average_tuple(nums):\n",
        "    result = [sum(x) / len(x) for x in zip(*nums)]\n",
        "    return result\n",
        "\n",
        "nums = ((10, 10, 10, 12), (30, 45, 56, 45), (81, 80, 39, 32), (1, 2, 3, 4))\n",
        "print (\"Original Tuple: \")\n",
        "print(nums)\n",
        "print(\"\\nAverage value of the numbers of the said tuple of tuples:\\n\",average_tuple(nums))"
      ]
    },
    {
      "cell_type": "markdown",
      "id": "51edab9c",
      "metadata": {
        "id": "51edab9c"
      },
      "source": [
        "**56-Write a Python program to add member(s) to a set."
      ]
    },
    {
      "cell_type": "code",
      "execution_count": null,
      "id": "2b65df79",
      "metadata": {
        "id": "2b65df79"
      },
      "outputs": [],
      "source": [
        "color_set = set()\n",
        "print(color_set)\n",
        "print(\"\\nAdd single element:\")\n",
        "color_set.add(\"Red\")"
      ]
    },
    {
      "cell_type": "markdown",
      "id": "965590cc",
      "metadata": {
        "id": "965590cc"
      },
      "source": [
        "**57-Write a Python program to remove an item from a set if it is present in the set."
      ]
    },
    {
      "cell_type": "code",
      "execution_count": null,
      "id": "866bab28",
      "metadata": {
        "id": "866bab28"
      },
      "outputs": [],
      "source": [
        "num_set = set([0, 1, 2, 3, 4, 5])\n",
        "print(\"\\nRemove 0 from the said set:\")\n",
        "num_set.discard(4)"
      ]
    },
    {
      "cell_type": "markdown",
      "id": "2b7cfed1",
      "metadata": {
        "id": "2b7cfed1"
      },
      "source": [
        "**58-Write a Python program to create an intersection,union,difference and symmetric difference of sets"
      ]
    },
    {
      "cell_type": "code",
      "execution_count": null,
      "id": "7f94b7fe",
      "metadata": {
        "id": "7f94b7fe"
      },
      "outputs": [],
      "source": [
        "# Program to perform different set operations\n",
        "# as we do in mathematics\n",
        "\n",
        "# sets are define\n",
        "A = {0, 2, 4, 6, 8};\n",
        "B = {1, 2, 3, 4, 5};\n",
        "\n",
        "# union\n",
        "print(\"Union :\", A | B)\n",
        "\n",
        "# intersection\n",
        "print(\"Intersection :\", A & B)\n",
        "\n",
        "# difference\n",
        "print(\"Difference :\", A - B)\n",
        "\n",
        "# symmetric difference\n",
        "print(\"Symmetric difference :\", A ^ B)\n"
      ]
    },
    {
      "cell_type": "markdown",
      "id": "b94931e2",
      "metadata": {
        "id": "b94931e2"
      },
      "source": [
        "**59-Write a Python program to find the maximum and minimum values in a set"
      ]
    },
    {
      "cell_type": "code",
      "execution_count": 23,
      "id": "203f9600",
      "metadata": {
        "id": "203f9600",
        "colab": {
          "base_uri": "https://localhost:8080/"
        },
        "outputId": "39659e78-030c-4b3f-bffe-89dd5fdbda44"
      },
      "outputs": [
        {
          "output_type": "stream",
          "name": "stdout",
          "text": [
            "20\n"
          ]
        }
      ],
      "source": [
        "setn = {5, 10, 3, 15, 2, 20}\n",
        "print(max(setn))\n",
        "print(min(setn))"
      ]
    },
    {
      "cell_type": "markdown",
      "id": "255fd554",
      "metadata": {
        "id": "255fd554"
      },
      "source": [
        "**60- Write a Python program that finds all pairs of elements in a list whose sum is equal to a given value."
      ]
    },
    {
      "cell_type": "code",
      "execution_count": 28,
      "id": "c2d94e1f",
      "metadata": {
        "id": "c2d94e1f",
        "colab": {
          "base_uri": "https://localhost:8080/"
        },
        "outputId": "888d2320-e2c5-46e8-f998-8b76bb36291c"
      },
      "outputs": [
        {
          "output_type": "stream",
          "name": "stdout",
          "text": [
            "[(5, 7), (3, 9)]\n"
          ]
        }
      ],
      "source": [
        "def findPairs(lst, K):\n",
        "\tres = []\n",
        "\twhile lst:\n",
        "\t\tnum = lst.pop()\n",
        "\t\tdiff = K - num\n",
        "\t\tif diff in lst:\n",
        "\t\t\tres.append((diff, num))\n",
        "\n",
        "\tres.reverse()\n",
        "\treturn res\n",
        "\n",
        "\n",
        "lst = [1, 5, 3, 7, 9]\n",
        "K = 12\n",
        "print(findPairs(lst, K))\n"
      ]
    }
  ],
  "metadata": {
    "kernelspec": {
      "display_name": "Python 3 (ipykernel)",
      "language": "python",
      "name": "python3"
    },
    "language_info": {
      "codemirror_mode": {
        "name": "ipython",
        "version": 3
      },
      "file_extension": ".py",
      "mimetype": "text/x-python",
      "name": "python",
      "nbconvert_exporter": "python",
      "pygments_lexer": "ipython3",
      "version": "3.9.7"
    },
    "colab": {
      "provenance": []
    }
  },
  "nbformat": 4,
  "nbformat_minor": 5
}